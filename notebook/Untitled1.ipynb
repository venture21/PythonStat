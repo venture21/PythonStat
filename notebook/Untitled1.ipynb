{
 "cells": [
  {
   "cell_type": "code",
   "execution_count": 3,
   "id": "73e02ee4",
   "metadata": {},
   "outputs": [
    {
     "name": "stdout",
     "output_type": "stream",
     "text": [
      "['a.txt', 'b.txt']\n"
     ]
    }
   ],
   "source": [
    "sample =['a.txt','b.txt', 'c.md','d.jpg','e.doc']\n",
    "\n",
    "result =[]\n",
    "\n",
    "# 1. txt파일만 골라 내기\n",
    "for myStr in sample:\n",
    "    front, back = myStr.split('.')\n",
    "    if back=='txt':\n",
    "       result.append(myStr) \n",
    "\n",
    "print(result)"
   ]
  },
  {
   "cell_type": "code",
   "execution_count": 4,
   "id": "a3763a4e",
   "metadata": {},
   "outputs": [
    {
     "name": "stdout",
     "output_type": "stream",
     "text": [
      "['a.txt', 'b.txt', 'c.md']\n"
     ]
    }
   ],
   "source": [
    "import os\n",
    "\n",
    "sample =['a.txt','b.txt', 'c.md','d.jpg','e.doc']\n",
    "\n",
    "result =[]\n",
    "\n",
    "# 1. txt파일만 골라 내기\n",
    "for myStr in sample:\n",
    "    front, back = myStr.split('.')\n",
    "    if back=='txt' or back=='md':\n",
    "       result.append(myStr) \n",
    "\n",
    "print(result)"
   ]
  },
  {
   "cell_type": "code",
   "execution_count": null,
   "id": "3dd09807",
   "metadata": {},
   "outputs": [],
   "source": [
    "#3,6,9게임\n",
    "#1~100까지 숫자를 출력하는데 3,6,9가 들어간 숫자가 나오면 출력 '박수'\n"
   ]
  },
  {
   "cell_type": "code",
   "execution_count": null,
   "id": "7f5e5d24",
   "metadata": {},
   "outputs": [],
   "source": [
    "#파이썬 로또 게임 1~45까지 숫자를 선택,\n",
    "#내 번호가 있으면(input함수) 내 번호가 몇개가 맞았는지 확인"
   ]
  }
 ],
 "metadata": {
  "kernelspec": {
   "display_name": "Python 3 (ipykernel)",
   "language": "python",
   "name": "python3"
  },
  "language_info": {
   "codemirror_mode": {
    "name": "ipython",
    "version": 3
   },
   "file_extension": ".py",
   "mimetype": "text/x-python",
   "name": "python",
   "nbconvert_exporter": "python",
   "pygments_lexer": "ipython3",
   "version": "3.8.16"
  }
 },
 "nbformat": 4,
 "nbformat_minor": 5
}
